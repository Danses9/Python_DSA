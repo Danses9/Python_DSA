{
  "nbformat": 4,
  "nbformat_minor": 0,
  "metadata": {
    "colab": {
      "provenance": [],
      "authorship_tag": "ABX9TyNa+zxlhL9KuDYqrGFIhz7N"
    },
    "kernelspec": {
      "name": "python3",
      "display_name": "Python 3"
    },
    "language_info": {
      "name": "python"
    }
  },
  "cells": [
    {
      "cell_type": "markdown",
      "source": [
        "# Olá mundo\n",
        "Para iniciar com o pé direito nesta linguagem de programação, vou começar com a função *print*, para imprimir textos e números."
      ],
      "metadata": {
        "id": "fjfZI_GG26zU"
      }
    },
    {
      "cell_type": "code",
      "execution_count": 4,
      "metadata": {
        "colab": {
          "base_uri": "https://localhost:8080/"
        },
        "id": "zZz28VbK2zl9",
        "outputId": "5e4841ab-a115-4594-b98b-45bc3ade264b"
      },
      "outputs": [
        {
          "output_type": "stream",
          "name": "stdout",
          "text": [
            "Olá mundo! ♡-♡\n"
          ]
        }
      ],
      "source": [
        "print('Olá mundo! ♡-♡')"
      ]
    },
    {
      "cell_type": "code",
      "source": [
        "print(208, 293, 15)"
      ],
      "metadata": {
        "colab": {
          "base_uri": "https://localhost:8080/"
        },
        "id": "JCDKjo6P4TCc",
        "outputId": "fe696555-3db4-4c2f-83be-e4a98e4672ab"
      },
      "execution_count": 5,
      "outputs": [
        {
          "output_type": "stream",
          "name": "stdout",
          "text": [
            "208 293 15\n"
          ]
        }
      ]
    },
    {
      "cell_type": "code",
      "source": [
        "print(19, 'de junho de', 2025)"
      ],
      "metadata": {
        "colab": {
          "base_uri": "https://localhost:8080/"
        },
        "id": "tsUE6Llx4X61",
        "outputId": "d2cd308c-4d2c-43af-b62e-02ce778f0e15"
      },
      "execution_count": 6,
      "outputs": [
        {
          "output_type": "stream",
          "name": "stdout",
          "text": [
            "19 de junho de 2025\n"
          ]
        }
      ]
    }
  ]
}