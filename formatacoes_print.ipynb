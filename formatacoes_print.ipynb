{
  "nbformat": 4,
  "nbformat_minor": 0,
  "metadata": {
    "colab": {
      "provenance": [],
      "authorship_tag": "ABX9TyO4R1ZyrH4nIcCbLnujCyS7"
    },
    "kernelspec": {
      "name": "python3",
      "display_name": "Python 3"
    },
    "language_info": {
      "name": "python"
    }
  },
  "cells": [
    {
      "cell_type": "markdown",
      "source": [
        "# Mais formatações do print\n",
        "\n",
        " Operador de formatação de string ou da função `.format().`\n",
        "\n",
        " Esse operador de formatação permite a inserção de variáveis em pontos específicos na string com o operador `%`. Esse operador funciona como um marcador, informando onde o valor da variável vai ser exposto na string.\n",
        "\n",
        " Tipo de variavel | Palavra chave:\n",
        "* String    = `%s`\n",
        "* Inteiro   = `%d`\n",
        "* Float     = `%f`\n",
        "* Caractere = `%c `\n",
        "\n",
        "\n"
      ],
      "metadata": {
        "id": "2nVERr_RIXD7"
      }
    },
    {
      "cell_type": "code",
      "source": [
        "bairro = 'Jardim América'\n",
        "print('O nome do meu bairro é: %s'%(bairro))"
      ],
      "metadata": {
        "colab": {
          "base_uri": "https://localhost:8080/"
        },
        "id": "rTcsj5JEJcgc",
        "outputId": "cb4086df-fbce-4422-fb24-50d60e5e6c30"
      },
      "execution_count": null,
      "outputs": [
        {
          "output_type": "stream",
          "name": "stdout",
          "text": [
            "O nome do meu bairro é: Jardim América\n"
          ]
        }
      ]
    },
    {
      "cell_type": "code",
      "source": [
        "bairro = 'Jardim América'\n",
        "numero = 51\n",
        "valor = 500.85\n",
        "\n",
        "print('O nome do meu bairro é %s e o número da casa é %d, avaliada no valor de %f' %(bairro, numero, valor))"
      ],
      "metadata": {
        "colab": {
          "base_uri": "https://localhost:8080/"
        },
        "id": "TMTu59JwKJMv",
        "outputId": "e9a786c1-2338-41b1-a288-4d79a87753a6"
      },
      "execution_count": 27,
      "outputs": [
        {
          "output_type": "stream",
          "name": "stdout",
          "text": [
            "O nome do meu bairro é Jardim América e o número da casa é 51, avaliada no valor de 500.850000\n"
          ]
        }
      ]
    },
    {
      "cell_type": "code",
      "source": [
        "nome_aluno = 'Jeremias '\n",
        "idade_aluno = 18\n",
        "media_aluno = 8.45\n",
        "\n",
        "print('Nome do aluno é %s, ele tem %d anos e sua média é %f' %(nome_aluno, idade_aluno, media_aluno))"
      ],
      "metadata": {
        "colab": {
          "base_uri": "https://localhost:8080/"
        },
        "id": "YFX41joeLGpr",
        "outputId": "7ef41d29-b1f5-42a0-e536-5f9042babff5"
      },
      "execution_count": 28,
      "outputs": [
        {
          "output_type": "stream",
          "name": "stdout",
          "text": [
            "Nome do aluno é Jeremias , ele tem 18 anos e sua média é 8.450000\n"
          ]
        }
      ]
    },
    {
      "cell_type": "markdown",
      "source": [
        "Adicionando o caractere de uma nova linha"
      ],
      "metadata": {
        "id": "Q6fQ_BJeMumG"
      }
    },
    {
      "cell_type": "code",
      "source": [
        "print(\"Estudar é um esforço constante,\\nÉ como cultivar uma planta,\\nPrecisamos de dedicação e paciência,\\nPara ver o fruto amadurecer\")"
      ],
      "metadata": {
        "colab": {
          "base_uri": "https://localhost:8080/"
        },
        "id": "TPr1dqrKMqP_",
        "outputId": "5f7bd0fe-45a0-4e49-aaae-af7948f72854"
      },
      "execution_count": 29,
      "outputs": [
        {
          "output_type": "stream",
          "name": "stdout",
          "text": [
            "Estudar é um esforço constante,\n",
            "É como cultivar uma planta,\n",
            "Precisamos de dedicação e paciência,\n",
            "Para ver o fruto amadurecer\n"
          ]
        }
      ]
    },
    {
      "cell_type": "markdown",
      "source": [
        "Tabulação"
      ],
      "metadata": {
        "id": "tBR-dq2LMzVB"
      }
    },
    {
      "cell_type": "code",
      "source": [
        "print('Quantidade\\tQualidade\\n5 amostras\\tAlta\\n3 amostras\\tBaixa')"
      ],
      "metadata": {
        "colab": {
          "base_uri": "https://localhost:8080/"
        },
        "id": "DwHW1qrvM1SD",
        "outputId": "c486ae8f-1f47-4c50-d075-7a267e256b27"
      },
      "execution_count": 24,
      "outputs": [
        {
          "output_type": "stream",
          "name": "stdout",
          "text": [
            "Quantidade\tQualidade\n",
            "5 amostras\tAlta\n",
            "3 amostras\tBaixa\n"
          ]
        }
      ]
    },
    {
      "cell_type": "markdown",
      "source": [
        "Usamos` \\\\\\` para imprimir uma única barra invertida, caso contrário o código pode dar erro, pois o Python considera `\\ `como caractere especial"
      ],
      "metadata": {
        "id": "xFRCvd6YM_gt"
      }
    },
    {
      "cell_type": "code",
      "source": [
        "print(\"Caminho do arquivo: C:\\\\arquivos\\\\documento.csv\")"
      ],
      "metadata": {
        "colab": {
          "base_uri": "https://localhost:8080/"
        },
        "id": "40Op62ySNUND",
        "outputId": "cdd33659-303a-42fb-9e44-834b289d418e"
      },
      "execution_count": 25,
      "outputs": [
        {
          "output_type": "stream",
          "name": "stdout",
          "text": [
            "Caminho do arquivo: C:\\arquivos\\documento.csv\n"
          ]
        }
      ]
    },
    {
      "cell_type": "markdown",
      "source": [
        "`\"` é usado para imprimir aspas duplas quando estamos trabalhando com uma string criada a partir de aspas duplas `\"`"
      ],
      "metadata": {
        "id": "a77j_LjANpQt"
      }
    },
    {
      "cell_type": "code",
      "source": [
        "print(\"Ouvi uma vez \\\"Os frutos do conhecimento são os mais doces e duradouros de todos.\\\"\")"
      ],
      "metadata": {
        "colab": {
          "base_uri": "https://localhost:8080/"
        },
        "id": "aTrdj6WeNiWB",
        "outputId": "22c825bd-6c9b-484a-fc20-228eba877e9e"
      },
      "execution_count": 26,
      "outputs": [
        {
          "output_type": "stream",
          "name": "stdout",
          "text": [
            "Ouvi uma vez \"Os frutos do conhecimento são os mais doces e duradouros de todos.\"\n"
          ]
        }
      ]
    }
  ]
}