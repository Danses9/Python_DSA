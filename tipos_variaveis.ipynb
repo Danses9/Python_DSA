{
  "nbformat": 4,
  "nbformat_minor": 0,
  "metadata": {
    "colab": {
      "provenance": [],
      "toc_visible": true,
      "authorship_tag": "ABX9TyOh+K5Xo+79DeRtpowK2blb"
    },
    "kernelspec": {
      "name": "python3",
      "display_name": "Python 3"
    },
    "language_info": {
      "name": "python"
    }
  },
  "cells": [
    {
      "cell_type": "markdown",
      "source": [
        "# Tipos de variáveis\n",
        "Cada variável tem uma classe especifica ao tipo de objeto que ela contém.\n",
        "Esse tipo de dado é o que nós atribuimos a variável (>‿◠)✌"
      ],
      "metadata": {
        "id": "OwtCyVcOCFOI"
      }
    },
    {
      "cell_type": "markdown",
      "source": [
        "Para sabermos a classe de cada elemento, usamos a função *`type`*"
      ],
      "metadata": {
        "id": "qeUlvfX2Cq24"
      }
    },
    {
      "cell_type": "code",
      "source": [
        "i = 10020\n",
        "type(i)"
      ],
      "metadata": {
        "colab": {
          "base_uri": "https://localhost:8080/"
        },
        "id": "UT3miOr3C4q1",
        "outputId": "d273a9d2-e941-42df-ebbe-9feccc3bacfb"
      },
      "execution_count": 24,
      "outputs": [
        {
          "output_type": "execute_result",
          "data": {
            "text/plain": [
              "int"
            ]
          },
          "metadata": {},
          "execution_count": 24
        }
      ]
    },
    {
      "cell_type": "code",
      "source": [
        "f = 10.389\n",
        "type"
      ],
      "metadata": {
        "colab": {
          "base_uri": "https://localhost:8080/"
        },
        "id": "cn1RIB2NDBO8",
        "outputId": "e8539e42-8cc9-4bdd-fdcf-981f911858d4"
      },
      "execution_count": 25,
      "outputs": [
        {
          "output_type": "execute_result",
          "data": {
            "text/plain": [
              "float"
            ]
          },
          "metadata": {},
          "execution_count": 25
        }
      ]
    },
    {
      "cell_type": "code",
      "source": [
        "s = 'Henrique'\n",
        "type"
      ],
      "metadata": {
        "colab": {
          "base_uri": "https://localhost:8080/"
        },
        "id": "b0O4TxxtDKOK",
        "outputId": "663d82f3-ab06-48b2-cb3e-3b7f7df7e75d"
      },
      "execution_count": 27,
      "outputs": [
        {
          "output_type": "execute_result",
          "data": {
            "text/plain": [
              "type"
            ]
          },
          "metadata": {},
          "execution_count": 27
        }
      ]
    },
    {
      "cell_type": "code",
      "source": [
        "b = False\n",
        "type(b)"
      ],
      "metadata": {
        "colab": {
          "base_uri": "https://localhost:8080/"
        },
        "id": "ad9IH_yYDS1L",
        "outputId": "e4153b76-ca37-4e69-d8c9-16745b937831"
      },
      "execution_count": 28,
      "outputs": [
        {
          "output_type": "execute_result",
          "data": {
            "text/plain": [
              "bool"
            ]
          },
          "metadata": {},
          "execution_count": 28
        }
      ]
    },
    {
      "cell_type": "markdown",
      "source": [
        "**Desfio:** Como transformar esses dados em variáveis no Python?\n",
        "\n",
        "**Ficha**\n",
        "\n",
        "* Nome: Fabricio Daniel\n",
        "* Idade: 15 anos\n",
        "* Média do semestre: 8,45\n",
        "* Situação de aprovação: Aprovado\n",
        "\n"
      ],
      "metadata": {
        "id": "Dd4FFGCuDdmg"
      }
    },
    {
      "cell_type": "code",
      "source": [
        "nome = 'Fabricio Daniel'\n",
        "idade = 15\n",
        "media = 8.45\n",
        "aprovado = True\n",
        "print(nome,'com', idade,'anos, alcançou a média de',media,',situação de aprovação =',aprovado)"
      ],
      "metadata": {
        "colab": {
          "base_uri": "https://localhost:8080/"
        },
        "id": "IODhlZgiD7NG",
        "outputId": "226e633c-3712-4d00-b238-37f291747d58"
      },
      "execution_count": 44,
      "outputs": [
        {
          "output_type": "stream",
          "name": "stdout",
          "text": [
            "Fabricio Daniel com 15 anos, alcançou a média de 8.45 ,situação de aprovação = True\n"
          ]
        }
      ]
    }
  ]
}