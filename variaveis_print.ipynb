{
  "nbformat": 4,
  "nbformat_minor": 0,
  "metadata": {
    "colab": {
      "provenance": [],
      "toc_visible": true,
      "authorship_tag": "ABX9TyPKm51dcI/AmtjPbI2HIYRi"
    },
    "kernelspec": {
      "name": "python3",
      "display_name": "Python 3"
    },
    "language_info": {
      "name": "python"
    }
  },
  "cells": [
    {
      "cell_type": "markdown",
      "source": [
        "# Variáveis\n",
        "Aprendendo a declarar variáveis e conhecendo outros comandos python (◑.◑)"
      ],
      "metadata": {
        "id": "Ou0o83b98bWH"
      }
    },
    {
      "cell_type": "markdown",
      "source": [
        "Atribuindo valores usando o sinal de igual **(=)**"
      ],
      "metadata": {
        "id": "66SKQONp9KqC"
      }
    },
    {
      "cell_type": "code",
      "source": [
        "hino = 293"
      ],
      "metadata": {
        "id": "c66Nsdx09MeR"
      },
      "execution_count": 7,
      "outputs": []
    },
    {
      "cell_type": "code",
      "source": [
        "print(hino)"
      ],
      "metadata": {
        "colab": {
          "base_uri": "https://localhost:8080/"
        },
        "id": "ltpJ1hO79VcL",
        "outputId": "0b2747c2-4e4e-4f44-cbe2-beb390a37bfe"
      },
      "execution_count": 8,
      "outputs": [
        {
          "output_type": "stream",
          "name": "stdout",
          "text": [
            "293\n"
          ]
        }
      ]
    },
    {
      "cell_type": "code",
      "source": [
        "hino = 15\n",
        "hino"
      ],
      "metadata": {
        "colab": {
          "base_uri": "https://localhost:8080/"
        },
        "id": "Uhlq3fJU9s8A",
        "outputId": "7f6cb9c2-f8e4-4f15-ce2b-8ac4201d44d7"
      },
      "execution_count": 9,
      "outputs": [
        {
          "output_type": "execute_result",
          "data": {
            "text/plain": [
              "15"
            ]
          },
          "metadata": {},
          "execution_count": 9
        }
      ]
    },
    {
      "cell_type": "code",
      "source": [
        "fruta = 'Goiaba'\n",
        "fruta"
      ],
      "metadata": {
        "colab": {
          "base_uri": "https://localhost:8080/",
          "height": 36
        },
        "id": "Lr6EeUEm9-7D",
        "outputId": "fbead1eb-c844-42a0-9245-aa6bdf1b7ecc"
      },
      "execution_count": 10,
      "outputs": [
        {
          "output_type": "execute_result",
          "data": {
            "text/plain": [
              "'Goiaba'"
            ],
            "application/vnd.google.colaboratory.intrinsic+json": {
              "type": "string"
            }
          },
          "metadata": {},
          "execution_count": 10
        }
      ]
    },
    {
      "cell_type": "markdown",
      "source": [
        "### Nomes que **não** podemos definir para variáveis:\n",
        "\n",
        "  **1.** **Nomes que começam com números**\n",
        "*   ex: 20_notas, 2_casas_, etc\n",
        "\n",
        "**2.** **Palavras separadas por espaço**\n",
        "* ex: Nome escola, frutas hortf, etc\n",
        "\n",
        "**3.** **Nomes de funções**\n",
        "*   ex: print, type, etc\n",
        "\n",
        "\n"
      ],
      "metadata": {
        "id": "fnV2qEbn-Lmn"
      }
    },
    {
      "cell_type": "markdown",
      "source": [
        "Letras maiúsculas e minúsculas vão gerar variáveis diferentes."
      ],
      "metadata": {
        "id": "2Am6vtWA_qAo"
      }
    },
    {
      "cell_type": "code",
      "source": [
        "Horta = 'hortelã'\n",
        "horta = 'cheiro verde'\n",
        "qtd = 5\n",
        "Qtd = 8\n",
        "\n",
        "print(Horta, Qtd)\n",
        "print(horta, qtd)"
      ],
      "metadata": {
        "colab": {
          "base_uri": "https://localhost:8080/"
        },
        "id": "IGTzA30V_2FO",
        "outputId": "eeebd0a9-1bb6-4d5e-9080-e76aa4638e1d"
      },
      "execution_count": 23,
      "outputs": [
        {
          "output_type": "stream",
          "name": "stdout",
          "text": [
            "hortelã 8\n",
            "cheiro verde 5\n"
          ]
        }
      ]
    }
  ]
}