{
  "nbformat": 4,
  "nbformat_minor": 0,
  "metadata": {
    "colab": {
      "provenance": [],
      "authorship_tag": "ABX9TyMpgVIc00Z5A/uXMCsFxbX1"
    },
    "kernelspec": {
      "name": "python3",
      "display_name": "Python 3"
    },
    "language_info": {
      "name": "python"
    }
  },
  "cells": [
    {
      "cell_type": "markdown",
      "source": [
        "# Variáveis Numéricas\n",
        "\n",
        "Entre os tipos de dados numéricos vamos nos focar no tipo `inteiro` e `float`.\n",
        "\n",
        "Temos uma tabela de informação de empregos quanto ao cargo, quantidade de pessoas empregadas e o salário correspondente:\n",
        "\n",
        "|Cargo | Quantidade | Salário|\n",
        "|---|---|---|\n",
        "|Segurança | 5 | 3000 |\n",
        "|Docente | 16| 6000|\n",
        "|Diretoria| 1 |12500|\n",
        "\n",
        "Precisamos trabalhar com esses dados fornecendo:\n",
        "\n",
        "- A quantidade total de empregados;\n",
        "- A diferença entre o salário mais baixo e mais alto.\n",
        "- A média ponderada da faixa salarial da escola."
      ],
      "metadata": {
        "id": "GNGAItPgPoIC"
      }
    },
    {
      "cell_type": "code",
      "execution_count": 4,
      "metadata": {
        "id": "40nXitPKPBxf"
      },
      "outputs": [],
      "source": [
        "seguranca = 5\n",
        "sal_seg = 3000\n",
        "\n",
        "docente = 16\n",
        "sal_doc = 6000\n",
        "\n",
        "diretoria = 1\n",
        "sal_diret = 12500"
      ]
    },
    {
      "cell_type": "markdown",
      "source": [
        "Quantidade total de empregados:"
      ],
      "metadata": {
        "id": "2Pv9iUJaRJCb"
      }
    },
    {
      "cell_type": "code",
      "source": [
        "total_emp = seguranca + docente + diretoria\n",
        "total_emp"
      ],
      "metadata": {
        "colab": {
          "base_uri": "https://localhost:8080/"
        },
        "id": "lHqfXcn8P9mD",
        "outputId": "5ec194c0-b37b-4c45-8c43-0b34ca6d2a5b"
      },
      "execution_count": 3,
      "outputs": [
        {
          "output_type": "execute_result",
          "data": {
            "text/plain": [
              "22"
            ]
          },
          "metadata": {},
          "execution_count": 3
        }
      ]
    },
    {
      "cell_type": "markdown",
      "source": [
        "Diferença entre os salários:"
      ],
      "metadata": {
        "id": "3IjWcjH7RLQO"
      }
    },
    {
      "cell_type": "code",
      "source": [
        "dif_salario = sal_diret - sal_seg\n",
        "dif_salario"
      ],
      "metadata": {
        "colab": {
          "base_uri": "https://localhost:8080/"
        },
        "id": "jAmVCRTrRHXj",
        "outputId": "66742a1a-9077-4d14-95bf-b23582b3fb95"
      },
      "execution_count": 5,
      "outputs": [
        {
          "output_type": "execute_result",
          "data": {
            "text/plain": [
              "9500"
            ]
          },
          "metadata": {},
          "execution_count": 5
        }
      ]
    },
    {
      "cell_type": "markdown",
      "source": [
        "Média ponderada:"
      ],
      "metadata": {
        "id": "7VELNscnRfE8"
      }
    },
    {
      "cell_type": "code",
      "source": [
        "media = (seguranca * sal_seg + docente * sal_doc + diretoria * sal_diret) / (total_emp)\n",
        "media"
      ],
      "metadata": {
        "colab": {
          "base_uri": "https://localhost:8080/"
        },
        "id": "k4HgmXSIRhkh",
        "outputId": "57ee6a1f-5a4a-435c-aca8-2c3212b718be"
      },
      "execution_count": 6,
      "outputs": [
        {
          "output_type": "execute_result",
          "data": {
            "text/plain": [
              "5613.636363636364"
            ]
          },
          "metadata": {},
          "execution_count": 6
        }
      ]
    }
  ]
}