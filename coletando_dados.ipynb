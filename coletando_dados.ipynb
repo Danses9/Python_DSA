{
  "nbformat": 4,
  "nbformat_minor": 0,
  "metadata": {
    "colab": {
      "provenance": [],
      "toc_visible": true,
      "authorship_tag": "ABX9TyOfUgOLr0lWGTbTxzRN/Jai"
    },
    "kernelspec": {
      "name": "python3",
      "display_name": "Python 3"
    },
    "language_info": {
      "name": "python"
    }
  },
  "cells": [
    {
      "cell_type": "markdown",
      "source": [
        "## Coletando dados\n",
        "\n",
        "Em algumas aplicações precisamos coletar valores da pessoa usuária do nosso projeto. Em python conseguimos coletar dados de usuário através do comando [`input()`](https://docs.python.org/3/library/functions.html#input).\n",
        "\n",
        "Para fazer essa coleta podemos atribuir essa função à uma variável."
      ],
      "metadata": {
        "id": "KpJklFN0a-3z"
      }
    },
    {
      "cell_type": "code",
      "source": [
        "fruta = input('Escreva aqui a sua fruta favorita 🤩 : ')"
      ],
      "metadata": {
        "colab": {
          "base_uri": "https://localhost:8080/"
        },
        "id": "uZgN9XDtbEC3",
        "outputId": "918f4bbb-b4fc-4a34-f6ff-9b352f3496f8"
      },
      "execution_count": 76,
      "outputs": [
        {
          "name": "stdout",
          "output_type": "stream",
          "text": [
            "Escreva aqui a sua fruta favorita 🤩 : Abacaxi\n"
          ]
        }
      ]
    },
    {
      "cell_type": "code",
      "source": [
        "fruta"
      ],
      "metadata": {
        "colab": {
          "base_uri": "https://localhost:8080/",
          "height": 36
        },
        "id": "WLc7mbP6bQca",
        "outputId": "112b44f1-5f71-4d8a-fe85-47fb8bc40cae"
      },
      "execution_count": 77,
      "outputs": [
        {
          "output_type": "execute_result",
          "data": {
            "text/plain": [
              "'Abacaxi'"
            ],
            "application/vnd.google.colaboratory.intrinsic+json": {
              "type": "string"
            }
          },
          "metadata": {},
          "execution_count": 77
        }
      ]
    },
    {
      "cell_type": "markdown",
      "source": [
        "O retorno desse comando sempre será uma *string*. Isso quer dizer que mesmo que façamos uma coleta de algo que deva ser numérico, ele será uma string.\n",
        "\n",
        "Então, será preciso **converter o resultado caso não seja desejável obter uma string**."
      ],
      "metadata": {
        "id": "8CvoTjaXbV_-"
      }
    },
    {
      "cell_type": "markdown",
      "source": [
        "Existem funções para conversão de valores:\n",
        "\n",
        "- Inteiros: [`int(dado_para_conversao)`](https://docs.python.org/3/library/functions.html#int)\n",
        "- Float: [`float(dado_para_conversao)`](https://docs.python.org/3/library/functions.html#float)\n",
        "- String: [`str(dado_para_conversao)`](https://docs.python.org/3/library/functions.html#func-str)\n",
        "- Booleano: [`bool(dado_para_conversao)`](https://docs.python.org/3/library/functions.html#bool)"
      ],
      "metadata": {
        "id": "HZ8ZYju8bYUz"
      }
    },
    {
      "cell_type": "code",
      "source": [
        "ano = input('👩‍🍼 ~ Qual é o ano do seu nascimento?')"
      ],
      "metadata": {
        "colab": {
          "base_uri": "https://localhost:8080/"
        },
        "id": "vM6ltNaOboVy",
        "outputId": "33ad6977-9ab1-4f99-b9e6-200982c225f9"
      },
      "execution_count": 79,
      "outputs": [
        {
          "name": "stdout",
          "output_type": "stream",
          "text": [
            "👩‍🍼 ~ Qual é o ano do seu nascimento?2001\n"
          ]
        }
      ]
    },
    {
      "cell_type": "code",
      "source": [
        "type(ano)"
      ],
      "metadata": {
        "colab": {
          "base_uri": "https://localhost:8080/"
        },
        "id": "xLKHtKhkcLcb",
        "outputId": "6ae2512a-fe3e-41f9-e7a3-de190daba03d"
      },
      "execution_count": 80,
      "outputs": [
        {
          "output_type": "execute_result",
          "data": {
            "text/plain": [
              "str"
            ]
          },
          "metadata": {},
          "execution_count": 80
        }
      ]
    },
    {
      "cell_type": "code",
      "source": [
        "ano = int(input('👩‍🍼 ~ Qual é o ano do seu nascimento?'))"
      ],
      "metadata": {
        "colab": {
          "base_uri": "https://localhost:8080/"
        },
        "id": "_gT0CGq6cNIr",
        "outputId": "bc7b8ad4-fbd1-48db-cfc8-8503ae5f8a53"
      },
      "execution_count": 82,
      "outputs": [
        {
          "name": "stdout",
          "output_type": "stream",
          "text": [
            "👩‍🍼 ~ Qual é o ano do seu nascimento?2021\n"
          ]
        }
      ]
    },
    {
      "cell_type": "code",
      "source": [
        "type(ano)"
      ],
      "metadata": {
        "colab": {
          "base_uri": "https://localhost:8080/"
        },
        "id": "pquUg-Q8cZir",
        "outputId": "bda54e4f-3963-4a8f-da7a-0925f08d5ce6"
      },
      "execution_count": 83,
      "outputs": [
        {
          "output_type": "execute_result",
          "data": {
            "text/plain": [
              "int"
            ]
          },
          "metadata": {},
          "execution_count": 83
        }
      ]
    },
    {
      "cell_type": "markdown",
      "source": [
        "Buscaremos apresentar melhor agora o resultado que obtivemos da transformação. Nós conseguimos formatar e apresentar o nosso resultado misturando strings com valores não textuais.\n",
        "\n",
        "Para fazer isso usamos a estrutura de formatação `f` com strings."
      ],
      "metadata": {
        "id": "VwOnpgwvdUbY"
      }
    },
    {
      "cell_type": "code",
      "source": [
        "nascimento = int(input('Qual é o dia do seu nascimento? '))"
      ],
      "metadata": {
        "colab": {
          "base_uri": "https://localhost:8080/"
        },
        "id": "g8PJgxDYcxw7",
        "outputId": "134215e3-3d91-4414-c756-215be2681755"
      },
      "execution_count": 100,
      "outputs": [
        {
          "name": "stdout",
          "output_type": "stream",
          "text": [
            "Qual é o dia do seu nascimento? 15\n"
          ]
        }
      ]
    },
    {
      "cell_type": "code",
      "source": [
        "nome = float(input('Digite o ano do seu nascimento: '))"
      ],
      "metadata": {
        "colab": {
          "base_uri": "https://localhost:8080/"
        },
        "id": "LhaVbBSYdIXi",
        "outputId": "e8d61ff2-0bde-4c84-a6aa-526320a15fe8"
      },
      "execution_count": 99,
      "outputs": [
        {
          "name": "stdout",
          "output_type": "stream",
          "text": [
            "Digite o ano do seu nascimento: 2024\n"
          ]
        }
      ]
    },
    {
      "cell_type": "code",
      "source": [
        "print(f'Você nasceu no ano de {ano} e você faz aniversário dia {nascimento}')"
      ],
      "metadata": {
        "colab": {
          "base_uri": "https://localhost:8080/"
        },
        "id": "LZrTZvRMdkav",
        "outputId": "6060c763-857c-4ccd-aa68-d640ca2091b5"
      },
      "execution_count": 101,
      "outputs": [
        {
          "output_type": "stream",
          "name": "stdout",
          "text": [
            "Você nasceu no ano de 2021 e você faz aniversário dia 15\n"
          ]
        }
      ]
    }
  ]
}